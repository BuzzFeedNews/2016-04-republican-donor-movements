{
 "cells": [
  {
   "cell_type": "markdown",
   "metadata": {},
   "source": [
    "# Analysis of GOP Donor Movements After Rubio and Bush Drop-outs"
   ]
  },
  {
   "cell_type": "code",
   "execution_count": 1,
   "metadata": {
    "collapsed": true
   },
   "outputs": [],
   "source": [
    "import pandas as pd\n",
    "import datetime as dt"
   ]
  },
  {
   "cell_type": "markdown",
   "metadata": {},
   "source": [
    "## Load and Find Candidate Committees"
   ]
  },
  {
   "cell_type": "code",
   "execution_count": 2,
   "metadata": {
    "collapsed": false
   },
   "outputs": [],
   "source": [
    "cn_headers = open(\"../data/cn_header_file.csv\").read().strip().split(',')"
   ]
  },
  {
   "cell_type": "code",
   "execution_count": 3,
   "metadata": {
    "collapsed": true
   },
   "outputs": [],
   "source": [
    "campaigns_to_commitees = pd.read_csv(\"../data/cn.txt\", sep=\"|\", names=cn_headers)"
   ]
  },
  {
   "cell_type": "code",
   "execution_count": 4,
   "metadata": {
    "collapsed": true
   },
   "outputs": [],
   "source": [
    "CAND_NAMES = {\n",
    "    \"Kasich\": \"KASICH, JOHN R\",\n",
    "    \"Trump\": \"TRUMP, DONALD J\",\n",
    "    \"Rubio\": \"RUBIO, MARCO\",\n",
    "    \"Bush\": \"BUSH, JEB\",\n",
    "    \"Cruz\": 'CRUZ, RAFAEL EDWARD \"TED\"'\n",
    "}"
   ]
  },
  {
   "cell_type": "code",
   "execution_count": 5,
   "metadata": {
    "collapsed": false
   },
   "outputs": [
    {
     "data": {
      "text/plain": [
       "{'BUSH, JEB': 'C00579458',\n",
       " 'CRUZ, RAFAEL EDWARD \"TED\"': 'C00574624',\n",
       " 'KASICH, JOHN R': 'C00581876',\n",
       " 'RUBIO, MARCO': 'C00458844',\n",
       " 'TRUMP, DONALD J': 'C00580100'}"
      ]
     },
     "execution_count": 5,
     "metadata": {},
     "output_type": "execute_result"
    }
   ],
   "source": [
    "COMMITTEE_IDS = campaigns_to_commitees[\n",
    "    (campaigns_to_commitees[\"CAND_OFFICE\"] == \"P\") &\n",
    "    (campaigns_to_commitees[\"CAND_PTY_AFFILIATION\"] == \"REP\") &\n",
    "    (campaigns_to_commitees[\"CAND_ELECTION_YR\"] == 2016) &\n",
    "    (campaigns_to_commitees[\"CAND_NAME\"].isin(CAND_NAMES.values()))\n",
    "].set_index(\"CAND_NAME\")[\"CAND_PCC\"].to_dict()\n",
    "COMMITTEE_IDS"
   ]
  },
  {
   "cell_type": "markdown",
   "metadata": {},
   "source": [
    "## Load and Clean Individual Donations\n",
    "\n",
    "BuzzFeed News downloaded the \"Contributions by Individuals\" master file from the [FEC's website](http://www.fec.gov/finance/disclosure/ftpdet.shtml) on April 25, 2016. It contains information about every single itemized individual donation for every single 2016 campaign for contributors who have given more than $200 to a committee during this election cycle.\n",
    "\n",
    "First we select only the donations to the five Republican campaign committees we're interested in analyzing.\n",
    "\n",
    "Then, we simplify each donor's name (removing suffixes and middle names, which committees have different approaches to reporting) and ZIP code (to the first five digits).\n",
    "\n",
    "FEC campaign filings do not assign any unique identifiers to donors. So finally, to be able to distinguish and track individual donors, the code below assigns each contribution a `donor_uid` based on the donor's first name, last name, and ZIP code. This approach could result in an undercount of donors if, for instance, there are two people named John Smith in a same ZIP code — but should result in good approximations for the analyses below."
   ]
  },
  {
   "cell_type": "markdown",
   "metadata": {},
   "source": [
    "### Load All Itemized Individual Donations"
   ]
  },
  {
   "cell_type": "code",
   "execution_count": 6,
   "metadata": {
    "collapsed": true
   },
   "outputs": [],
   "source": [
    "ind_headers = open(\"../data/indiv_header_file.csv\").read().strip().split(',')"
   ]
  },
  {
   "cell_type": "code",
   "execution_count": 7,
   "metadata": {
    "collapsed": true
   },
   "outputs": [],
   "source": [
    "dtypes = {\n",
    "    \"NAME\": str,\n",
    "    \"ZIP_CODE\": str,\n",
    "    \"TRANSACTION_DT\": str,\n",
    "    \"FILE_NUM\": str,\n",
    "    \"MEMO_CD\": str,\n",
    "    \"MEMO_TXT\": str\n",
    "}"
   ]
  },
  {
   "cell_type": "code",
   "execution_count": 8,
   "metadata": {
    "collapsed": false
   },
   "outputs": [],
   "source": [
    "donors = pd.read_csv(\n",
    "    \"../data/itcont.txt\",\n",
    "    sep=\"|\", \n",
    "    names=ind_headers,\n",
    "    dtype=dtypes\n",
    ")"
   ]
  },
  {
   "cell_type": "code",
   "execution_count": 9,
   "metadata": {
    "collapsed": false
   },
   "outputs": [
    {
     "data": {
      "text/html": [
       "<div>\n",
       "<table border=\"1\" class=\"dataframe\">\n",
       "  <thead>\n",
       "    <tr style=\"text-align: right;\">\n",
       "      <th></th>\n",
       "      <th>CMTE_ID</th>\n",
       "      <th>AMNDT_IND</th>\n",
       "      <th>RPT_TP</th>\n",
       "      <th>TRANSACTION_PGI</th>\n",
       "      <th>IMAGE_NUM</th>\n",
       "      <th>TRANSACTION_TP</th>\n",
       "      <th>ENTITY_TP</th>\n",
       "      <th>NAME</th>\n",
       "      <th>CITY</th>\n",
       "      <th>STATE</th>\n",
       "      <th>...</th>\n",
       "      <th>EMPLOYER</th>\n",
       "      <th>OCCUPATION</th>\n",
       "      <th>TRANSACTION_DT</th>\n",
       "      <th>TRANSACTION_AMT</th>\n",
       "      <th>OTHER_ID</th>\n",
       "      <th>TRAN_ID</th>\n",
       "      <th>FILE_NUM</th>\n",
       "      <th>MEMO_CD</th>\n",
       "      <th>MEMO_TEXT</th>\n",
       "      <th>SUB_ID</th>\n",
       "    </tr>\n",
       "  </thead>\n",
       "  <tbody>\n",
       "    <tr>\n",
       "      <th>0</th>\n",
       "      <td>C00004606</td>\n",
       "      <td>N</td>\n",
       "      <td>M4</td>\n",
       "      <td>P</td>\n",
       "      <td>15951124869</td>\n",
       "      <td>15</td>\n",
       "      <td>IND</td>\n",
       "      <td>ARNOLD, ROBERT</td>\n",
       "      <td>MCPHERSON</td>\n",
       "      <td>KS</td>\n",
       "      <td>...</td>\n",
       "      <td>SELF</td>\n",
       "      <td>OPTOMETRIST</td>\n",
       "      <td>03102015</td>\n",
       "      <td>1000</td>\n",
       "      <td>NaN</td>\n",
       "      <td>SA11AI.20747</td>\n",
       "      <td>1002259</td>\n",
       "      <td>NaN</td>\n",
       "      <td>NaN</td>\n",
       "      <td>4041320151241796098</td>\n",
       "    </tr>\n",
       "    <tr>\n",
       "      <th>1</th>\n",
       "      <td>C00004606</td>\n",
       "      <td>N</td>\n",
       "      <td>M4</td>\n",
       "      <td>P</td>\n",
       "      <td>15951124869</td>\n",
       "      <td>15</td>\n",
       "      <td>IND</td>\n",
       "      <td>BICKLE, DON</td>\n",
       "      <td>HAYS</td>\n",
       "      <td>KS</td>\n",
       "      <td>...</td>\n",
       "      <td>RETIRED</td>\n",
       "      <td>RETIRED</td>\n",
       "      <td>03302015</td>\n",
       "      <td>1000</td>\n",
       "      <td>NaN</td>\n",
       "      <td>SA11AI.20772</td>\n",
       "      <td>1002259</td>\n",
       "      <td>NaN</td>\n",
       "      <td>NaN</td>\n",
       "      <td>4041320151241796099</td>\n",
       "    </tr>\n",
       "    <tr>\n",
       "      <th>2</th>\n",
       "      <td>C00004606</td>\n",
       "      <td>N</td>\n",
       "      <td>M4</td>\n",
       "      <td>P</td>\n",
       "      <td>15951124869</td>\n",
       "      <td>15</td>\n",
       "      <td>IND</td>\n",
       "      <td>ROSSMAN, RICHARD</td>\n",
       "      <td>OLATHE</td>\n",
       "      <td>KS</td>\n",
       "      <td>...</td>\n",
       "      <td>CRAWFORD SALES COMPANY</td>\n",
       "      <td>BUSINESSMAN</td>\n",
       "      <td>03302015</td>\n",
       "      <td>250</td>\n",
       "      <td>NaN</td>\n",
       "      <td>SA11AI.20759</td>\n",
       "      <td>1002259</td>\n",
       "      <td>NaN</td>\n",
       "      <td>NaN</td>\n",
       "      <td>4041320151241796100</td>\n",
       "    </tr>\n",
       "    <tr>\n",
       "      <th>3</th>\n",
       "      <td>C00452383</td>\n",
       "      <td>N</td>\n",
       "      <td>M4</td>\n",
       "      <td>P</td>\n",
       "      <td>15951124897</td>\n",
       "      <td>15</td>\n",
       "      <td>IND</td>\n",
       "      <td>LLEWELLYN, CHARLES</td>\n",
       "      <td>FREDERICK</td>\n",
       "      <td>MD</td>\n",
       "      <td>...</td>\n",
       "      <td>NaN</td>\n",
       "      <td>NaN</td>\n",
       "      <td>03112015</td>\n",
       "      <td>500</td>\n",
       "      <td>NaN</td>\n",
       "      <td>SA11AI.25088</td>\n",
       "      <td>1002261</td>\n",
       "      <td>NaN</td>\n",
       "      <td>NaN</td>\n",
       "      <td>4041320151241796102</td>\n",
       "    </tr>\n",
       "    <tr>\n",
       "      <th>4</th>\n",
       "      <td>C00452383</td>\n",
       "      <td>N</td>\n",
       "      <td>M4</td>\n",
       "      <td>P</td>\n",
       "      <td>15951124897</td>\n",
       "      <td>15</td>\n",
       "      <td>IND</td>\n",
       "      <td>TYNES, TIMOTHY MR.</td>\n",
       "      <td>VERO BEACH</td>\n",
       "      <td>FL</td>\n",
       "      <td>...</td>\n",
       "      <td>NaN</td>\n",
       "      <td>NaN</td>\n",
       "      <td>03022015</td>\n",
       "      <td>250</td>\n",
       "      <td>NaN</td>\n",
       "      <td>SA11AI.25074</td>\n",
       "      <td>1002261</td>\n",
       "      <td>NaN</td>\n",
       "      <td>NaN</td>\n",
       "      <td>4041320151241796103</td>\n",
       "    </tr>\n",
       "  </tbody>\n",
       "</table>\n",
       "<p>5 rows × 21 columns</p>\n",
       "</div>"
      ],
      "text/plain": [
       "     CMTE_ID AMNDT_IND RPT_TP TRANSACTION_PGI    IMAGE_NUM TRANSACTION_TP  \\\n",
       "0  C00004606         N     M4               P  15951124869             15   \n",
       "1  C00004606         N     M4               P  15951124869             15   \n",
       "2  C00004606         N     M4               P  15951124869             15   \n",
       "3  C00452383         N     M4               P  15951124897             15   \n",
       "4  C00452383         N     M4               P  15951124897             15   \n",
       "\n",
       "  ENTITY_TP                NAME        CITY STATE         ...           \\\n",
       "0       IND      ARNOLD, ROBERT   MCPHERSON    KS         ...            \n",
       "1       IND         BICKLE, DON        HAYS    KS         ...            \n",
       "2       IND    ROSSMAN, RICHARD      OLATHE    KS         ...            \n",
       "3       IND  LLEWELLYN, CHARLES   FREDERICK    MD         ...            \n",
       "4       IND  TYNES, TIMOTHY MR.  VERO BEACH    FL         ...            \n",
       "\n",
       "                 EMPLOYER   OCCUPATION TRANSACTION_DT TRANSACTION_AMT  \\\n",
       "0                    SELF  OPTOMETRIST       03102015            1000   \n",
       "1                 RETIRED      RETIRED       03302015            1000   \n",
       "2  CRAWFORD SALES COMPANY  BUSINESSMAN       03302015             250   \n",
       "3                     NaN          NaN       03112015             500   \n",
       "4                     NaN          NaN       03022015             250   \n",
       "\n",
       "   OTHER_ID       TRAN_ID FILE_NUM MEMO_CD MEMO_TEXT               SUB_ID  \n",
       "0       NaN  SA11AI.20747  1002259     NaN       NaN  4041320151241796098  \n",
       "1       NaN  SA11AI.20772  1002259     NaN       NaN  4041320151241796099  \n",
       "2       NaN  SA11AI.20759  1002259     NaN       NaN  4041320151241796100  \n",
       "3       NaN  SA11AI.25088  1002261     NaN       NaN  4041320151241796102  \n",
       "4       NaN  SA11AI.25074  1002261     NaN       NaN  4041320151241796103  \n",
       "\n",
       "[5 rows x 21 columns]"
      ]
     },
     "execution_count": 9,
     "metadata": {},
     "output_type": "execute_result"
    }
   ],
   "source": [
    "donors.head()"
   ]
  },
  {
   "cell_type": "code",
   "execution_count": 10,
   "metadata": {
    "collapsed": false
   },
   "outputs": [],
   "source": [
    "gop_primary_donors = donors[\n",
    "    donors[\"CMTE_ID\"].isin(COMMITTEE_IDS.values()) &\n",
    "    (donors[\"TRANSACTION_PGI\"] == \"P\")\n",
    "].copy()"
   ]
  },
  {
   "cell_type": "markdown",
   "metadata": {},
   "source": [
    "### Clean Up Donation Data"
   ]
  },
  {
   "cell_type": "code",
   "execution_count": 11,
   "metadata": {
    "collapsed": true
   },
   "outputs": [],
   "source": [
    "def parse_date(date_string):\n",
    "    if pd.isnull(date_string):\n",
    "        return None\n",
    "    else:\n",
    "        return dt.datetime.strptime(date_string.strip(), \"%m%d%Y\")"
   ]
  },
  {
   "cell_type": "code",
   "execution_count": 12,
   "metadata": {
    "collapsed": false
   },
   "outputs": [],
   "source": [
    "gop_primary_donors[\"date\"] = gop_primary_donors[\"TRANSACTION_DT\"].apply(parse_date)"
   ]
  },
  {
   "cell_type": "code",
   "execution_count": 13,
   "metadata": {
    "collapsed": true
   },
   "outputs": [],
   "source": [
    "def extract_last_first(name):\n",
    "    return \" \".join(name.split(\" \")[:2])"
   ]
  },
  {
   "cell_type": "code",
   "execution_count": 14,
   "metadata": {
    "collapsed": false
   },
   "outputs": [],
   "source": [
    "gop_primary_donors[\"last_first\"] = gop_primary_donors[\"NAME\"].apply(extract_last_first)\n",
    "gop_primary_donors[\"zip_first_five\"] = gop_primary_donors[\"ZIP_CODE\"].fillna(\"\").apply(lambda x: x[:5])"
   ]
  },
  {
   "cell_type": "code",
   "execution_count": 15,
   "metadata": {
    "collapsed": true
   },
   "outputs": [],
   "source": [
    "def make_uid(row):\n",
    "    if pd.isnull(row[\"last_first\"]) or (row[\"zip_first_five\"] == \"\"):\n",
    "        return None\n",
    "    else:\n",
    "        return \"|\".join([row[\"last_first\"], row[\"zip_first_five\"]])"
   ]
  },
  {
   "cell_type": "code",
   "execution_count": 16,
   "metadata": {
    "collapsed": false
   },
   "outputs": [],
   "source": [
    "gop_primary_donors[\"donor_uid\"] = gop_primary_donors.apply(lambda x: make_uid(x), axis=1)"
   ]
  },
  {
   "cell_type": "markdown",
   "metadata": {},
   "source": [
    "## Analyze the Data\n",
    "\n",
    "The code below uses `donor_uid` to find the donors who made their first donation to a campaign committee after Jeb Bush and Marco Rubio dropped out of the 2016 Republican presidential primary—Feb. 20, 2016 and March 3, 2016 respectively. It then counts how many of those donations were made by donors who had previously given to the Bush or Rubio campaigns."
   ]
  },
  {
   "cell_type": "code",
   "execution_count": 17,
   "metadata": {
    "collapsed": true
   },
   "outputs": [],
   "source": [
    "# This method aggregates total donations, by contributor and committee, \n",
    "# before and after a given date\n",
    "def calculate_movements(since_date):\n",
    "    grp = gop_primary_donors.groupby([\n",
    "        \"donor_uid\",\n",
    "        gop_primary_donors[\"date\"] > since_date,\n",
    "        \"CMTE_ID\",\n",
    "    ])\n",
    "    total_contribs = grp[\"TRANSACTION_AMT\"].sum()\n",
    "    return total_contribs.unstack().unstack().fillna(0)"
   ]
  },
  {
   "cell_type": "code",
   "execution_count": 18,
   "metadata": {
    "collapsed": false
   },
   "outputs": [
    {
     "data": {
      "text/html": [
       "<div>\n",
       "<table border=\"1\" class=\"dataframe\">\n",
       "  <thead>\n",
       "    <tr>\n",
       "      <th>CMTE_ID</th>\n",
       "      <th colspan=\"2\" halign=\"left\">C00458844</th>\n",
       "      <th colspan=\"2\" halign=\"left\">C00574624</th>\n",
       "      <th colspan=\"2\" halign=\"left\">C00579458</th>\n",
       "      <th colspan=\"2\" halign=\"left\">C00580100</th>\n",
       "      <th colspan=\"2\" halign=\"left\">C00581876</th>\n",
       "    </tr>\n",
       "    <tr>\n",
       "      <th>date</th>\n",
       "      <th>False</th>\n",
       "      <th>True</th>\n",
       "      <th>False</th>\n",
       "      <th>True</th>\n",
       "      <th>False</th>\n",
       "      <th>True</th>\n",
       "      <th>False</th>\n",
       "      <th>True</th>\n",
       "      <th>False</th>\n",
       "      <th>True</th>\n",
       "    </tr>\n",
       "    <tr>\n",
       "      <th>donor_uid</th>\n",
       "      <th></th>\n",
       "      <th></th>\n",
       "      <th></th>\n",
       "      <th></th>\n",
       "      <th></th>\n",
       "      <th></th>\n",
       "      <th></th>\n",
       "      <th></th>\n",
       "      <th></th>\n",
       "      <th></th>\n",
       "    </tr>\n",
       "  </thead>\n",
       "  <tbody>\n",
       "    <tr>\n",
       "      <th>AANONSEN, PAUL|20009</th>\n",
       "      <td>0</td>\n",
       "      <td>0</td>\n",
       "      <td>0</td>\n",
       "      <td>0</td>\n",
       "      <td>0</td>\n",
       "      <td>0</td>\n",
       "      <td>323</td>\n",
       "      <td>0</td>\n",
       "      <td>0</td>\n",
       "      <td>0</td>\n",
       "    </tr>\n",
       "    <tr>\n",
       "      <th>AARNIO, TERRANCE|97267</th>\n",
       "      <td>0</td>\n",
       "      <td>0</td>\n",
       "      <td>0</td>\n",
       "      <td>0</td>\n",
       "      <td>2700</td>\n",
       "      <td>0</td>\n",
       "      <td>0</td>\n",
       "      <td>0</td>\n",
       "      <td>0</td>\n",
       "      <td>0</td>\n",
       "    </tr>\n",
       "    <tr>\n",
       "      <th>AARON, CHARLES|91361</th>\n",
       "      <td>0</td>\n",
       "      <td>0</td>\n",
       "      <td>250</td>\n",
       "      <td>0</td>\n",
       "      <td>0</td>\n",
       "      <td>0</td>\n",
       "      <td>0</td>\n",
       "      <td>0</td>\n",
       "      <td>0</td>\n",
       "      <td>0</td>\n",
       "    </tr>\n",
       "    <tr>\n",
       "      <th>AARON, DAVID|30125</th>\n",
       "      <td>0</td>\n",
       "      <td>0</td>\n",
       "      <td>0</td>\n",
       "      <td>0</td>\n",
       "      <td>0</td>\n",
       "      <td>0</td>\n",
       "      <td>253</td>\n",
       "      <td>303</td>\n",
       "      <td>0</td>\n",
       "      <td>0</td>\n",
       "    </tr>\n",
       "    <tr>\n",
       "      <th>AARON, FRED|34240</th>\n",
       "      <td>200</td>\n",
       "      <td>0</td>\n",
       "      <td>0</td>\n",
       "      <td>0</td>\n",
       "      <td>0</td>\n",
       "      <td>0</td>\n",
       "      <td>0</td>\n",
       "      <td>0</td>\n",
       "      <td>0</td>\n",
       "      <td>0</td>\n",
       "    </tr>\n",
       "  </tbody>\n",
       "</table>\n",
       "</div>"
      ],
      "text/plain": [
       "CMTE_ID                C00458844       C00574624       C00579458        \\\n",
       "date                       False True      False True      False True    \n",
       "donor_uid                                                                \n",
       "AANONSEN, PAUL|20009           0     0         0     0         0     0   \n",
       "AARNIO, TERRANCE|97267         0     0         0     0      2700     0   \n",
       "AARON, CHARLES|91361           0     0       250     0         0     0   \n",
       "AARON, DAVID|30125             0     0         0     0         0     0   \n",
       "AARON, FRED|34240            200     0         0     0         0     0   \n",
       "\n",
       "CMTE_ID                C00580100       C00581876        \n",
       "date                       False True      False True   \n",
       "donor_uid                                               \n",
       "AANONSEN, PAUL|20009         323     0         0     0  \n",
       "AARNIO, TERRANCE|97267         0     0         0     0  \n",
       "AARON, CHARLES|91361           0     0         0     0  \n",
       "AARON, DAVID|30125           253   303         0     0  \n",
       "AARON, FRED|34240              0     0         0     0  "
      ]
     },
     "execution_count": 18,
     "metadata": {},
     "output_type": "execute_result"
    }
   ],
   "source": [
    "calculate_movements(\"2016-02-20\").head()"
   ]
  },
  {
   "cell_type": "code",
   "execution_count": 19,
   "metadata": {
    "collapsed": true
   },
   "outputs": [],
   "source": [
    "def select_movements(from_candidate, to_candidate, since_date):\n",
    "    movements = calculate_movements(since_date)\n",
    "    return movements[\n",
    "        (movements[(COMMITTEE_IDS[from_candidate], False)] > 0) &\n",
    "        (movements[(COMMITTEE_IDS[to_candidate], False)] == 0) &\n",
    "        (movements[(COMMITTEE_IDS[to_candidate], True)] > 0)\n",
    "    ][(COMMITTEE_IDS[to_candidate], True)]"
   ]
  },
  {
   "cell_type": "code",
   "execution_count": 20,
   "metadata": {
    "collapsed": true
   },
   "outputs": [],
   "source": [
    "REMAINING_CANDIDATES = [\n",
    "    'CRUZ, RAFAEL EDWARD \"TED\"',\n",
    "    \"KASICH, JOHN R\",\n",
    "    \"TRUMP, DONALD J\" \n",
    "]\n",
    "\n",
    "DROPOUTS = [ \n",
    "    (\"BUSH, JEB\", \"2016-02-20\"), \n",
    "    (\"RUBIO, MARCO\", \"2016-03-15\") \n",
    "]"
   ]
  },
  {
   "cell_type": "code",
   "execution_count": 21,
   "metadata": {
    "collapsed": false
   },
   "outputs": [
    {
     "name": "stdout",
     "output_type": "stream",
     "text": [
      "CRUZ, RAFAEL EDWARD \"TED\" from BUSH, JEB\n",
      "63 donors\n",
      "$99,710\n",
      "\n",
      "CRUZ, RAFAEL EDWARD \"TED\" from RUBIO, MARCO\n",
      "120 donors\n",
      "$126,650\n",
      "\n",
      "KASICH, JOHN R from BUSH, JEB\n",
      "131 donors\n",
      "$173,850\n",
      "\n",
      "KASICH, JOHN R from RUBIO, MARCO\n",
      "97 donors\n",
      "$92,168\n",
      "\n",
      "TRUMP, DONALD J from BUSH, JEB\n",
      "9 donors\n",
      "$13,817\n",
      "\n",
      "TRUMP, DONALD J from RUBIO, MARCO\n",
      "6 donors\n",
      "$4,504\n",
      "\n"
     ]
    }
   ],
   "source": [
    "for cand_r in REMAINING_CANDIDATES:\n",
    "    for cand_drop, date_drop in DROPOUTS:\n",
    "        m = select_movements(cand_drop, cand_r, date_drop)\n",
    "        print(\"{0} from {1}\\n{2} donors\\n${3:,.0f}\\n\".format(cand_r, cand_drop, len(m), m.sum()))"
   ]
  },
  {
   "cell_type": "markdown",
   "metadata": {},
   "source": [
    "---\n",
    "\n",
    "---\n",
    "\n",
    "---"
   ]
  }
 ],
 "metadata": {
  "kernelspec": {
   "display_name": "Python 3",
   "language": "python",
   "name": "python3"
  },
  "language_info": {
   "codemirror_mode": {
    "name": "ipython",
    "version": 3
   },
   "file_extension": ".py",
   "mimetype": "text/x-python",
   "name": "python",
   "nbconvert_exporter": "python",
   "pygments_lexer": "ipython3",
   "version": "3.4.3"
  }
 },
 "nbformat": 4,
 "nbformat_minor": 0
}

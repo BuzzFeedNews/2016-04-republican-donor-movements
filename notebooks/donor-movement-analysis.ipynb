{
 "cells": [
  {
   "cell_type": "code",
   "execution_count": 1,
   "metadata": {
    "collapsed": true
   },
   "outputs": [],
   "source": [
    "import pandas as pd\n",
    "import datetime as dt"
   ]
  },
  {
   "cell_type": "markdown",
   "metadata": {},
   "source": [
    "## Load and Find Candidate Committees"
   ]
  },
  {
   "cell_type": "code",
   "execution_count": 2,
   "metadata": {
    "collapsed": false
   },
   "outputs": [],
   "source": [
    "with open(\"../data/cn_header_file.csv\") as f:\n",
    "    cn_headers = f.read().split(',')"
   ]
  },
  {
   "cell_type": "code",
   "execution_count": 3,
   "metadata": {
    "collapsed": true
   },
   "outputs": [],
   "source": [
    "campaigns_to_commitees = pd.read_csv(\"../data/cn.txt\", sep=\"|\", names=cn_headers)"
   ]
  },
  {
   "cell_type": "code",
   "execution_count": 4,
   "metadata": {
    "collapsed": true
   },
   "outputs": [],
   "source": [
    "CAND_NAMES = [\"KASICH, JOHN R\", \"TRUMP, DONALD J\", \"RUBIO, MARCO\", \"BUSH, JEB\", 'CRUZ, RAFAEL EDWARD \"TED\"']"
   ]
  },
  {
   "cell_type": "code",
   "execution_count": 5,
   "metadata": {
    "collapsed": false
   },
   "outputs": [
    {
     "data": {
      "text/html": [
       "<div>\n",
       "<table border=\"1\" class=\"dataframe\">\n",
       "  <thead>\n",
       "    <tr style=\"text-align: right;\">\n",
       "      <th></th>\n",
       "      <th>CAND_NAME</th>\n",
       "      <th>CAND_PCC</th>\n",
       "    </tr>\n",
       "  </thead>\n",
       "  <tbody>\n",
       "    <tr>\n",
       "      <th>4048</th>\n",
       "      <td>KASICH, JOHN R</td>\n",
       "      <td>C00581876</td>\n",
       "    </tr>\n",
       "    <tr>\n",
       "      <th>4188</th>\n",
       "      <td>CRUZ, RAFAEL EDWARD \"TED\"</td>\n",
       "      <td>C00574624</td>\n",
       "    </tr>\n",
       "    <tr>\n",
       "      <th>4248</th>\n",
       "      <td>RUBIO, MARCO</td>\n",
       "      <td>C00458844</td>\n",
       "    </tr>\n",
       "    <tr>\n",
       "      <th>4378</th>\n",
       "      <td>BUSH, JEB</td>\n",
       "      <td>C00579458</td>\n",
       "    </tr>\n",
       "    <tr>\n",
       "      <th>5673</th>\n",
       "      <td>TRUMP, DONALD J</td>\n",
       "      <td>C00580100</td>\n",
       "    </tr>\n",
       "  </tbody>\n",
       "</table>\n",
       "</div>"
      ],
      "text/plain": [
       "                      CAND_NAME   CAND_PCC\n",
       "4048             KASICH, JOHN R  C00581876\n",
       "4188  CRUZ, RAFAEL EDWARD \"TED\"  C00574624\n",
       "4248               RUBIO, MARCO  C00458844\n",
       "4378                  BUSH, JEB  C00579458\n",
       "5673            TRUMP, DONALD J  C00580100"
      ]
     },
     "execution_count": 5,
     "metadata": {},
     "output_type": "execute_result"
    }
   ],
   "source": [
    "campaigns_to_commitees[\n",
    "    (campaigns_to_commitees[\"CAND_OFFICE\"] == \"P\") &\n",
    "    (campaigns_to_commitees[\"CAND_PTY_AFFILIATION\"] == \"REP\") &\n",
    "    (campaigns_to_commitees[\"CAND_ELECTION_YR\"] == 2016) &\n",
    "    (campaigns_to_commitees[\"CAND_NAME\"].isin(CAND_NAMES))\n",
    "][[\"CAND_NAME\", \"CAND_PCC\"]]"
   ]
  },
  {
   "cell_type": "markdown",
   "metadata": {},
   "source": [
    "## Load and Clean Individual Donations\n",
    "\n",
    "The \"Contributions by Individuals\" master file was downloaded from the [FEC's website](http://www.fec.gov/finance/disclosure/ftpdet.shtml) on April 25, 2016. It contains information about every single itemized individual donation (>$200) for every single 2016 campaign. First we separate out only the donations to the five Republican campaign committees we're interested in analyzing.\n",
    "\n",
    "In the individual data there is a single name field. The code below splits it up and only selects first and last names in an attempt to remove as much of the variation introduced by the reporting from difference campaign committees as possible.\n",
    "\n",
    "Finally, FEC campaign filings do not assign any unique identifiers to donors. To be able to distinguish and track individual donors, the code below assigns each contribution a `donor_uid` based on the donor's first name, last name, and ZIP code. This approach could result in an undercount of donors if, for instance, there are two people named John Smith in a same ZIP code — but should result in good approximations for the analyses below."
   ]
  },
  {
   "cell_type": "markdown",
   "metadata": {},
   "source": [
    "### Load All Itemized Individual Donations"
   ]
  },
  {
   "cell_type": "code",
   "execution_count": 6,
   "metadata": {
    "collapsed": true
   },
   "outputs": [],
   "source": [
    "with open(\"../data/indiv_header_file.csv\") as f:\n",
    "    ind_headers = f.read().split(',')"
   ]
  },
  {
   "cell_type": "code",
   "execution_count": 7,
   "metadata": {
    "collapsed": true
   },
   "outputs": [],
   "source": [
    "dtypes = {\n",
    "    \"NAME\": str,\n",
    "    \"ZIP_CODE\": str,\n",
    "    \"TRANSACTION_DT\": str,\n",
    "    \"FILE_NUM\": str,\n",
    "    \"MEMO_CD\": str,\n",
    "    \"MEMO_TXT\": str\n",
    "}"
   ]
  },
  {
   "cell_type": "code",
   "execution_count": 8,
   "metadata": {
    "collapsed": false
   },
   "outputs": [],
   "source": [
    "donors = pd.read_csv(\"../data/itcont.txt\", sep=\"|\", \n",
    "                     names=ind_headers, dtype=dtypes)"
   ]
  },
  {
   "cell_type": "code",
   "execution_count": 9,
   "metadata": {
    "collapsed": false
   },
   "outputs": [
    {
     "data": {
      "text/html": [
       "<div>\n",
       "<table border=\"1\" class=\"dataframe\">\n",
       "  <thead>\n",
       "    <tr style=\"text-align: right;\">\n",
       "      <th></th>\n",
       "      <th>CMTE_ID</th>\n",
       "      <th>AMNDT_IND</th>\n",
       "      <th>RPT_TP</th>\n",
       "      <th>TRANSACTION_PGI</th>\n",
       "      <th>IMAGE_NUM</th>\n",
       "      <th>TRANSACTION_TP</th>\n",
       "      <th>ENTITY_TP</th>\n",
       "      <th>NAME</th>\n",
       "      <th>CITY</th>\n",
       "      <th>STATE</th>\n",
       "      <th>...</th>\n",
       "      <th>EMPLOYER</th>\n",
       "      <th>OCCUPATION</th>\n",
       "      <th>TRANSACTION_DT</th>\n",
       "      <th>TRANSACTION_AMT</th>\n",
       "      <th>OTHER_ID</th>\n",
       "      <th>TRAN_ID</th>\n",
       "      <th>FILE_NUM</th>\n",
       "      <th>MEMO_CD</th>\n",
       "      <th>MEMO_TEXT</th>\n",
       "      <th>SUB_ID</th>\n",
       "    </tr>\n",
       "  </thead>\n",
       "  <tbody>\n",
       "    <tr>\n",
       "      <th>0</th>\n",
       "      <td>C00004606</td>\n",
       "      <td>N</td>\n",
       "      <td>M4</td>\n",
       "      <td>P</td>\n",
       "      <td>15951124869</td>\n",
       "      <td>15</td>\n",
       "      <td>IND</td>\n",
       "      <td>ARNOLD, ROBERT</td>\n",
       "      <td>MCPHERSON</td>\n",
       "      <td>KS</td>\n",
       "      <td>...</td>\n",
       "      <td>SELF</td>\n",
       "      <td>OPTOMETRIST</td>\n",
       "      <td>03102015</td>\n",
       "      <td>1000</td>\n",
       "      <td>NaN</td>\n",
       "      <td>SA11AI.20747</td>\n",
       "      <td>1002259</td>\n",
       "      <td>NaN</td>\n",
       "      <td>NaN</td>\n",
       "      <td>4041320151241796098</td>\n",
       "    </tr>\n",
       "    <tr>\n",
       "      <th>1</th>\n",
       "      <td>C00004606</td>\n",
       "      <td>N</td>\n",
       "      <td>M4</td>\n",
       "      <td>P</td>\n",
       "      <td>15951124869</td>\n",
       "      <td>15</td>\n",
       "      <td>IND</td>\n",
       "      <td>BICKLE, DON</td>\n",
       "      <td>HAYS</td>\n",
       "      <td>KS</td>\n",
       "      <td>...</td>\n",
       "      <td>RETIRED</td>\n",
       "      <td>RETIRED</td>\n",
       "      <td>03302015</td>\n",
       "      <td>1000</td>\n",
       "      <td>NaN</td>\n",
       "      <td>SA11AI.20772</td>\n",
       "      <td>1002259</td>\n",
       "      <td>NaN</td>\n",
       "      <td>NaN</td>\n",
       "      <td>4041320151241796099</td>\n",
       "    </tr>\n",
       "    <tr>\n",
       "      <th>2</th>\n",
       "      <td>C00004606</td>\n",
       "      <td>N</td>\n",
       "      <td>M4</td>\n",
       "      <td>P</td>\n",
       "      <td>15951124869</td>\n",
       "      <td>15</td>\n",
       "      <td>IND</td>\n",
       "      <td>ROSSMAN, RICHARD</td>\n",
       "      <td>OLATHE</td>\n",
       "      <td>KS</td>\n",
       "      <td>...</td>\n",
       "      <td>CRAWFORD SALES COMPANY</td>\n",
       "      <td>BUSINESSMAN</td>\n",
       "      <td>03302015</td>\n",
       "      <td>250</td>\n",
       "      <td>NaN</td>\n",
       "      <td>SA11AI.20759</td>\n",
       "      <td>1002259</td>\n",
       "      <td>NaN</td>\n",
       "      <td>NaN</td>\n",
       "      <td>4041320151241796100</td>\n",
       "    </tr>\n",
       "    <tr>\n",
       "      <th>3</th>\n",
       "      <td>C00452383</td>\n",
       "      <td>N</td>\n",
       "      <td>M4</td>\n",
       "      <td>P</td>\n",
       "      <td>15951124897</td>\n",
       "      <td>15</td>\n",
       "      <td>IND</td>\n",
       "      <td>LLEWELLYN, CHARLES</td>\n",
       "      <td>FREDERICK</td>\n",
       "      <td>MD</td>\n",
       "      <td>...</td>\n",
       "      <td>NaN</td>\n",
       "      <td>NaN</td>\n",
       "      <td>03112015</td>\n",
       "      <td>500</td>\n",
       "      <td>NaN</td>\n",
       "      <td>SA11AI.25088</td>\n",
       "      <td>1002261</td>\n",
       "      <td>NaN</td>\n",
       "      <td>NaN</td>\n",
       "      <td>4041320151241796102</td>\n",
       "    </tr>\n",
       "    <tr>\n",
       "      <th>4</th>\n",
       "      <td>C00452383</td>\n",
       "      <td>N</td>\n",
       "      <td>M4</td>\n",
       "      <td>P</td>\n",
       "      <td>15951124897</td>\n",
       "      <td>15</td>\n",
       "      <td>IND</td>\n",
       "      <td>TYNES, TIMOTHY MR.</td>\n",
       "      <td>VERO BEACH</td>\n",
       "      <td>FL</td>\n",
       "      <td>...</td>\n",
       "      <td>NaN</td>\n",
       "      <td>NaN</td>\n",
       "      <td>03022015</td>\n",
       "      <td>250</td>\n",
       "      <td>NaN</td>\n",
       "      <td>SA11AI.25074</td>\n",
       "      <td>1002261</td>\n",
       "      <td>NaN</td>\n",
       "      <td>NaN</td>\n",
       "      <td>4041320151241796103</td>\n",
       "    </tr>\n",
       "  </tbody>\n",
       "</table>\n",
       "<p>5 rows × 21 columns</p>\n",
       "</div>"
      ],
      "text/plain": [
       "     CMTE_ID AMNDT_IND RPT_TP TRANSACTION_PGI    IMAGE_NUM TRANSACTION_TP  \\\n",
       "0  C00004606         N     M4               P  15951124869             15   \n",
       "1  C00004606         N     M4               P  15951124869             15   \n",
       "2  C00004606         N     M4               P  15951124869             15   \n",
       "3  C00452383         N     M4               P  15951124897             15   \n",
       "4  C00452383         N     M4               P  15951124897             15   \n",
       "\n",
       "  ENTITY_TP                NAME        CITY STATE         ...           \\\n",
       "0       IND      ARNOLD, ROBERT   MCPHERSON    KS         ...            \n",
       "1       IND         BICKLE, DON        HAYS    KS         ...            \n",
       "2       IND    ROSSMAN, RICHARD      OLATHE    KS         ...            \n",
       "3       IND  LLEWELLYN, CHARLES   FREDERICK    MD         ...            \n",
       "4       IND  TYNES, TIMOTHY MR.  VERO BEACH    FL         ...            \n",
       "\n",
       "                 EMPLOYER   OCCUPATION TRANSACTION_DT TRANSACTION_AMT  \\\n",
       "0                    SELF  OPTOMETRIST       03102015            1000   \n",
       "1                 RETIRED      RETIRED       03302015            1000   \n",
       "2  CRAWFORD SALES COMPANY  BUSINESSMAN       03302015             250   \n",
       "3                     NaN          NaN       03112015             500   \n",
       "4                     NaN          NaN       03022015             250   \n",
       "\n",
       "   OTHER_ID       TRAN_ID FILE_NUM MEMO_CD MEMO_TEXT           SUB_ID\\r\\n  \n",
       "0       NaN  SA11AI.20747  1002259     NaN       NaN  4041320151241796098  \n",
       "1       NaN  SA11AI.20772  1002259     NaN       NaN  4041320151241796099  \n",
       "2       NaN  SA11AI.20759  1002259     NaN       NaN  4041320151241796100  \n",
       "3       NaN  SA11AI.25088  1002261     NaN       NaN  4041320151241796102  \n",
       "4       NaN  SA11AI.25074  1002261     NaN       NaN  4041320151241796103  \n",
       "\n",
       "[5 rows x 21 columns]"
      ]
     },
     "execution_count": 9,
     "metadata": {},
     "output_type": "execute_result"
    }
   ],
   "source": [
    "donors.head()"
   ]
  },
  {
   "cell_type": "markdown",
   "metadata": {},
   "source": [
    "### Separate Out Republican Campaign Comittees"
   ]
  },
  {
   "cell_type": "code",
   "execution_count": 10,
   "metadata": {
    "collapsed": true
   },
   "outputs": [],
   "source": [
    "republican_primary_commitees = campaigns_to_commitees[\n",
    "    (campaigns_to_commitees[\"CAND_OFFICE\"] == \"P\") &\n",
    "    (campaigns_to_commitees[\"CAND_PTY_AFFILIATION\"] == \"REP\") &\n",
    "    (campaigns_to_commitees[\"CAND_ELECTION_YR\"] == 2016) &\n",
    "    (campaigns_to_commitees[\"CAND_NAME\"].isin(CAND_NAMES))\n",
    "][\"CAND_PCC\"].values"
   ]
  },
  {
   "cell_type": "code",
   "execution_count": 11,
   "metadata": {
    "collapsed": false
   },
   "outputs": [],
   "source": [
    "republican_primary_donors = donors[\n",
    "    donors[\"CMTE_ID\"].isin(republican_primary_commitees) &\n",
    "    (donors[\"TRANSACTION_PGI\"] == \"P\")\n",
    "].copy()"
   ]
  },
  {
   "cell_type": "markdown",
   "metadata": {},
   "source": [
    "### Clean Up Donation Data"
   ]
  },
  {
   "cell_type": "code",
   "execution_count": 12,
   "metadata": {
    "collapsed": true
   },
   "outputs": [],
   "source": [
    "def parse_date(date_string):\n",
    "    if pd.isnull(date_string):\n",
    "        return None\n",
    "    else:\n",
    "        return dt.datetime.strptime(date_string.strip(), \"%m%d%Y\")"
   ]
  },
  {
   "cell_type": "code",
   "execution_count": 13,
   "metadata": {
    "collapsed": false
   },
   "outputs": [],
   "source": [
    "republican_primary_donors[\"date\"] = republican_primary_donors[\"TRANSACTION_DT\"].apply(parse_date)"
   ]
  },
  {
   "cell_type": "code",
   "execution_count": 14,
   "metadata": {
    "collapsed": true
   },
   "outputs": [],
   "source": [
    "def extract_lastfirst(name):\n",
    "    return \" \".join(name.split(\" \")[:2])"
   ]
  },
  {
   "cell_type": "code",
   "execution_count": 15,
   "metadata": {
    "collapsed": false
   },
   "outputs": [],
   "source": [
    "republican_primary_donors[\"last_first\"] = republican_primary_donors[\"NAME\"].apply(extract_lastfirst)"
   ]
  },
  {
   "cell_type": "code",
   "execution_count": 16,
   "metadata": {
    "collapsed": true
   },
   "outputs": [],
   "source": [
    "def make_uid(row):\n",
    "    if pd.isnull(row[\"last_first\"]) or pd.isnull(row[\"ZIP_CODE\"]):\n",
    "        return None\n",
    "    else:\n",
    "        return \"|\".join([row[\"last_first\"], row[\"ZIP_CODE\"]])"
   ]
  },
  {
   "cell_type": "code",
   "execution_count": 17,
   "metadata": {
    "collapsed": false
   },
   "outputs": [],
   "source": [
    "republican_primary_donors[\"donor_uid\"] = republican_primary_donors.apply(lambda x: make_uid(x), axis=1)"
   ]
  },
  {
   "cell_type": "markdown",
   "metadata": {},
   "source": [
    "## Analyze the Data\n",
    "\n",
    "The code below uses `donor_uid` to find the donors who made their first donation to a campaign committee after Jeb Bush and Marco Rubio dropped out of the 2016 Republican presidential primary—Feb. 20, 2016 and March 3, 2016 respectively. It then counts how many of those donations were made by donors who had previously given to the Bush or Rubio campaigns."
   ]
  },
  {
   "cell_type": "code",
   "execution_count": 24,
   "metadata": {
    "collapsed": false
   },
   "outputs": [],
   "source": [
    "def find_overlap(still_alive_com):\n",
    "    still_alive_donors = republican_primary_donors[\n",
    "            republican_primary_donors[\"CMTE_ID\"] == still_alive_com\n",
    "           ].sort_values(\"date\").drop_duplicates(subset=[\"donor_uid\"])\n",
    "    rubio = republican_primary_donors[\n",
    "                republican_primary_donors[\"CMTE_ID\"] == \"C00458844\"\n",
    "            ].sort_values(\"date\").drop_duplicates(subset=[\"donor_uid\"])\n",
    "    bush = republican_primary_donors[\n",
    "                republican_primary_donors[\"CMTE_ID\"] == \"C00579458\"\n",
    "           ].sort_values(\"date\").drop_duplicates(subset=[\"donor_uid\"])\n",
    "    rubio_donors = set(rubio[\"donor_uid\"])\n",
    "    bush_donors = set(bush[\"donor_uid\"])\n",
    "    donors_post_bush = set(still_alive_donors[still_alive_donors[\"date\"] > \"2016-02-20\"][\"donor_uid\"])\n",
    "    donors_post_rubio = set(still_alive_donors[still_alive_donors[\"date\"] > \"2016-03-15\"][\"donor_uid\"])\n",
    "    print(\"Bush to {0}: {1} of {2}\\nRubio to {0}: {4} of {3}\"\\\n",
    "          .format(still_alive_com,\n",
    "                  len(donors_post_bush.intersection(bush_donors)),\n",
    "                  len(donors_post_bush),\n",
    "                  len(donors_post_rubio),\n",
    "                  len(donors_post_rubio.intersection(rubio_donors))))"
   ]
  },
  {
   "cell_type": "markdown",
   "metadata": {},
   "source": [
    "### Donald Trump"
   ]
  },
  {
   "cell_type": "code",
   "execution_count": 25,
   "metadata": {
    "collapsed": false
   },
   "outputs": [
    {
     "name": "stdout",
     "output_type": "stream",
     "text": [
      "Bush to C00580100: 0 of 1181\n",
      "Rubio to C00580100: 0 of 353\n"
     ]
    }
   ],
   "source": [
    "find_overlap(\"C00580100\")"
   ]
  },
  {
   "cell_type": "markdown",
   "metadata": {},
   "source": [
    "### Ted Cruz"
   ]
  },
  {
   "cell_type": "code",
   "execution_count": 26,
   "metadata": {
    "collapsed": false
   },
   "outputs": [
    {
     "name": "stdout",
     "output_type": "stream",
     "text": [
      "Bush to C00574624: 51 of 5431\n",
      "Rubio to C00574624: 110 of 1701\n"
     ]
    }
   ],
   "source": [
    "find_overlap(\"C00574624\")"
   ]
  },
  {
   "cell_type": "markdown",
   "metadata": {},
   "source": [
    "### John Kasich"
   ]
  },
  {
   "cell_type": "code",
   "execution_count": 27,
   "metadata": {
    "collapsed": false
   },
   "outputs": [
    {
     "name": "stdout",
     "output_type": "stream",
     "text": [
      "Bush to C00581876: 108 of 3490\n",
      "Rubio to C00581876: 88 of 1330\n"
     ]
    }
   ],
   "source": [
    "find_overlap(\"C00581876\")"
   ]
  },
  {
   "cell_type": "code",
   "execution_count": null,
   "metadata": {
    "collapsed": true
   },
   "outputs": [],
   "source": []
  },
  {
   "cell_type": "markdown",
   "metadata": {},
   "source": [
    "---\n",
    "\n",
    "---\n",
    "\n",
    "---"
   ]
  }
 ],
 "metadata": {
  "kernelspec": {
   "display_name": "Python 2",
   "language": "python",
   "name": "python2"
  },
  "language_info": {
   "codemirror_mode": {
    "name": "ipython",
    "version": 2
   },
   "file_extension": ".py",
   "mimetype": "text/x-python",
   "name": "python",
   "nbconvert_exporter": "python",
   "pygments_lexer": "ipython2",
   "version": "2.7.9"
  }
 },
 "nbformat": 4,
 "nbformat_minor": 0
}
